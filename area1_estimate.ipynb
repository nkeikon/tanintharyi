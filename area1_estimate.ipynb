{
 "cells": [
  {
   "cell_type": "code",
   "execution_count": 1,
   "metadata": {},
   "outputs": [],
   "source": [
    "import ee\n",
    "\n",
    "ee.Initialize()\n",
    "from IPython.display import display, Image"
   ]
  },
  {
   "cell_type": "code",
   "execution_count": 2,
   "metadata": {},
   "outputs": [],
   "source": [
    "scale = 20"
   ]
  },
  {
   "cell_type": "code",
   "execution_count": 3,
   "metadata": {},
   "outputs": [],
   "source": [
    "roi = ee.FeatureCollection(\"users/nkeikon/myanmar_sr/area1\")\n",
    "dawei = ee.FeatureCollection(\"users/nkeikon/myanmar_sr/DWI\")\n",
    "myeik = ee.FeatureCollection(\"users/nkeikon/myanmar_sr/MYK\")\n",
    "kawthaung = ee.FeatureCollection(\"users/nkeikon/myanmar_sr/KWT\")\n",
    "PA = ee.FeatureCollection(\"WCMC/WDPA/current/polygons\")\n",
    "classified = ee.Image(\"users/nkeikon/myanmar_sr/area1_classified\")\n",
    "palm = ee.FeatureCollection(\"users/nkeikon/myanmar_sr/palm_area1\")\n",
    "rubber = ee.FeatureCollection(\"users/nkeikon/myanmar_sr/rubber_area1\")\n",
    "other = ee.FeatureCollection(\"users/nkeikon/myanmar_sr/other_area1\")\n",
    "bare = ee.FeatureCollection(\"users/nkeikon/myanmar_sr/bare_area1\")\n",
    "water = ee.FeatureCollection(\"users/nkeikon/myanmar_sr/water_area1\")\n",
    "shrub = ee.FeatureCollection(\"users/nkeikon/myanmar_sr/shrub_area1\")"
   ]
  },
  {
   "cell_type": "code",
   "execution_count": 4,
   "metadata": {},
   "outputs": [
    {
     "data": {
      "text/html": [
       "<img src=\"https://earthengine.googleapis.com/api/thumb?thumbid=e9c2d7289e553f653177e4494630dd2b&token=b39780e7db498947ae7bc7c7d9b061f2\"/>"
      ],
      "text/plain": [
       "<IPython.core.display.Image object>"
      ]
     },
     "execution_count": 4,
     "metadata": {},
     "output_type": "execute_result"
    }
   ],
   "source": [
    "Image(url=classified.randomVisualizer().getThumbUrl({\"size\": \"400\"}))"
   ]
  },
  {
   "cell_type": "code",
   "execution_count": null,
   "metadata": {},
   "outputs": [],
   "source": [
    "# Calculate area by class\n",
    "names = [\"1 oil palm\", \"2 rubber\", \"3 other\", \"4 shrub\", \"5 bare\", \"6 water\"]\n",
    "count = classified.eq([1, 2, 3, 4, 5, 6]).rename(names)\n",
    "total = count.multiply(ee.Image.pixelArea())\n",
    "areaM2 = total.reduceRegion(ee.Reducer.sum(), roi, scale, None, None, False, 1e13, 3)\n",
    "areaPixel = count.reduceRegion(ee.Reducer.sum(), roi, scale, None, None, False, 1e13, 3)\n",
    "\n",
    "# Create feature collections\n",
    "featureM2 = ee.Feature(None)\n",
    "featureM2 = featureM2.set(\"areaM2\", areaM2)\n",
    "area_M2 = ee.FeatureCollection(featureM2)\n",
    "\n",
    "featurePixel = ee.Feature(None)\n",
    "featurePixel = featurePixel.set(\"areaPixel\", areaPixel)\n",
    "area_Pixel = ee.FeatureCollection(featurePixel)\n",
    "\n",
    "# Export as csv\n",
    "export1 = ee.batch.Export.table.toDrive(\n",
    "    collection=area_M2, description=\"export_area1_m2\", fileNamePrefix=\"area1_m2\"\n",
    ")\n",
    "export1.start()\n",
    "export2 = ee.batch.Export.table.toDrive(\n",
    "    collection=area_Pixel,\n",
    "    description=\"export_area1_pixel\",\n",
    "    fileNamePrefix=\"area1_pixel\",\n",
    ")\n",
    "export2.start()"
   ]
  },
  {
   "cell_type": "code",
   "execution_count": null,
   "metadata": {},
   "outputs": [],
   "source": [
    "# in national parks\n",
    "paMMR = PA.filter(ee.Filter.eq(\"ISO3\", \"MMR\"))\n",
    "names = [\"1 oil palm\", \"2 rubber\", \"3 other\", \"4 shrub\", \"5 bare\", \"6 water\"]\n",
    "count = classified.clip(PA).eq([1, 2, 3, 4, 5, 6]).rename(names)\n",
    "total = count.multiply(ee.Image.pixelArea())\n",
    "area = total.reduceRegion(ee.Reducer.sum(), paMMR, scale, None, None, False, 1e13, 3)\n",
    "\n",
    "feature = ee.Feature(None)\n",
    "feature = feature.set(\"area\", area)\n",
    "PA_results = ee.FeatureCollection(feature)\n",
    "\n",
    "export3 = ee.batch.Export.table.toDrive(\n",
    "    collection=PA_results, description=\"export_PA\", fileNamePrefix=\"PA_area\"\n",
    ")\n",
    "export3.start()"
   ]
  },
  {
   "cell_type": "code",
   "execution_count": null,
   "metadata": {},
   "outputs": [],
   "source": [
    "# in Dawei\n",
    "names = [\"1 oil palm\", \"2 rubber\", \"3 other\", \"4 shrub\", \"5 bare\", \"6 water\"]\n",
    "count = classified.clip(dawei).eq([1, 2, 3, 4, 5, 6]).rename(names)\n",
    "total = count.multiply(ee.Image.pixelArea())\n",
    "area = total.reduceRegion(ee.Reducer.sum(), dawei, scale, None, None, False, 1e13, 3)\n",
    "\n",
    "feature = ee.Feature(None)\n",
    "feature = feature.set(\"area\", area)\n",
    "dawei_results = ee.FeatureCollection(feature)\n",
    "\n",
    "export4 = ee.batch.Export.table.toDrive(\n",
    "    collection=dawei_results, description=\"export_dawei\", fileNamePrefix=\"Dawei_area\"\n",
    ")\n",
    "export4.start()"
   ]
  },
  {
   "cell_type": "code",
   "execution_count": null,
   "metadata": {},
   "outputs": [],
   "source": [
    "# in Myeik\n",
    "names = [\"1 oil palm\", \"2 rubber\", \"3 other\", \"4 shrub\", \"5 bare\", \"6 water\"]\n",
    "count = classified.clip(myeik).eq([1, 2, 3, 4, 5, 6]).rename(names)\n",
    "total = count.multiply(ee.Image.pixelArea())\n",
    "area = total.reduceRegion(ee.Reducer.sum(), myeik, scale, None, None, False, 1e13, 3)\n",
    "\n",
    "feature = ee.Feature(None)\n",
    "feature = feature.set(\"area\", area)\n",
    "myeik_results = ee.FeatureCollection(feature)\n",
    "\n",
    "export5 = ee.batch.Export.table.toDrive(\n",
    "    collection=myeik_results, description=\"export_myeik\", fileNamePrefix=\"Myeik_area\"\n",
    ")\n",
    "export5.start()"
   ]
  },
  {
   "cell_type": "code",
   "execution_count": null,
   "metadata": {},
   "outputs": [],
   "source": [
    "# in Kawthaung\n",
    "names = [\"1 oil palm\", \"2 rubber\", \"3 other\", \"4 shrub\", \"5 bare\", \"6 water\"]\n",
    "count = classified.clip(kawthaung).eq([1, 2, 3, 4, 5, 6]).rename(names)\n",
    "total = count.multiply(ee.Image.pixelArea())\n",
    "area = total.reduceRegion(\n",
    "    ee.Reducer.sum(), kawthaung, scale, None, None, False, 1e13, 3\n",
    ")\n",
    "\n",
    "feature = ee.Feature(None)\n",
    "feature = feature.set(\"area\", area)\n",
    "kawthaung_results = ee.FeatureCollection(feature)\n",
    "\n",
    "export6 = ee.batch.Export.table.toDrive(\n",
    "    collection=kawthaung_results,\n",
    "    description=\"export_area1_kawthaung\",\n",
    "    fileNamePrefix=\"Kawthaung_area1\",\n",
    ")\n",
    "export6.start()"
   ]
  },
  {
   "cell_type": "code",
   "execution_count": null,
   "metadata": {},
   "outputs": [],
   "source": [
    "# query current tasks\n",
    "tasks = ee.batch.Task.list()\n",
    "print(tasks[0])\n",
    "print(tasks[1])\n",
    "print(tasks[2])\n",
    "print(tasks[3])\n",
    "print(tasks[4])\n",
    "print(tasks[5])\n",
    "print(tasks[6])"
   ]
  },
  {
   "cell_type": "code",
   "execution_count": null,
   "metadata": {},
   "outputs": [],
   "source": []
  }
 ],
 "metadata": {
  "kernelspec": {
   "display_name": "Python 3",
   "language": "python",
   "name": "python3"
  },
  "language_info": {
   "codemirror_mode": {
    "name": "ipython",
    "version": 3
   },
   "file_extension": ".py",
   "mimetype": "text/x-python",
   "name": "python",
   "nbconvert_exporter": "python",
   "pygments_lexer": "ipython3",
   "version": "3.7.1"
  }
 },
 "nbformat": 4,
 "nbformat_minor": 2
}
