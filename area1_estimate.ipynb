{
 "cells": [
  {
   "cell_type": "code",
   "execution_count": null,
   "metadata": {},
   "outputs": [],
   "source": [
    "import ee\n",
    "\n",
    "ee.Initialize()\n",
    "from IPython.display import display, Image"
   ]
  },
  {
   "cell_type": "code",
   "execution_count": null,
   "metadata": {},
   "outputs": [],
   "source": [
    "scale = 20"
   ]
  },
  {
   "cell_type": "code",
   "execution_count": null,
   "metadata": {},
   "outputs": [],
   "source": [
    "roi = ee.FeatureCollection(\"users/nkeikon/myanmar_sr/area1\")\n",
    "dawei = ee.FeatureCollection(\"users/nkeikon/myanmar_sr/DWI\")\n",
    "myeik = ee.FeatureCollection(\"users/nkeikon/myanmar_sr/MYK\")\n",
    "kawthaung = ee.FeatureCollection(\"users/nkeikon/myanmar_sr/KWT\")\n",
    "PA = ee.FeatureCollection(\"WCMC/WDPA/current/polygons\")\n",
    "classified = ee.Image(\"users/nkeikon/myanmar_sr/area1_classified\")\n",
    "palm = ee.FeatureCollection(\"users/nkeikon/myanmar_sr/palm_area1\")\n",
    "rubber = ee.FeatureCollection(\"users/nkeikon/myanmar_sr/rubber_area1\")\n",
    "other = ee.FeatureCollection(\"users/nkeikon/myanmar_sr/other_area1\")\n",
    "bare = ee.FeatureCollection(\"users/nkeikon/myanmar_sr/bare_area1\")\n",
    "water = ee.FeatureCollection(\"users/nkeikon/myanmar_sr/water_area1\")\n",
    "shrub = ee.FeatureCollection(\"users/nkeikon/myanmar_sr/shrub_area1\")"
   ]
  },
  {
   "cell_type": "code",
   "execution_count": null,
   "metadata": {},
   "outputs": [],
   "source": [
    "Image(url=classified.randomVisualizer().getThumbUrl({\"size\": \"400\"}))"
   ]
  },
  {
   "cell_type": "code",
   "execution_count": null,
   "metadata": {},
   "outputs": [],
   "source": [
    "# Calculate area by class\n",
    "names = [\"1 oil palm\", \"2 rubber\", \"3 other\", \"4 shrub\", \"5 bare\", \"6 water\"]\n",
    "count = classified.eq([1, 2, 3, 4, 5, 6]).rename(names)\n",
    "total = count.multiply(ee.Image.pixelArea())\n",
    "areaM2 = total.reduceRegion(ee.Reducer.sum(), roi, scale, None, None, False, 1e13, 3)\n",
    "areaPixel = count.reduceRegion(ee.Reducer.sum(), roi, scale, None, None, False, 1e13, 3)\n",
    "\n",
    "# Create feature collections\n",
    "featureM2 = ee.Feature(None)\n",
    "featureM2 = featureM2.set(\"areaM2\", areaM2)\n",
    "area_M2 = ee.FeatureCollection(featureM2)\n",
    "\n",
    "featurePixel = ee.Feature(None)\n",
    "featurePixel = featurePixel.set(\"areaPixel\", areaPixel)\n",
    "area_Pixel = ee.FeatureCollection(featurePixel)\n",
    "\n",
    "# Export as csv\n",
    "export1 = ee.batch.Export.table.toDrive(\n",
    "    collection=area_M2, description=\"export_area1_m2\", fileNamePrefix=\"area1_m2\"\n",
    ")\n",
    "export1.start()\n",
    "export2 = ee.batch.Export.table.toDrive(\n",
    "    collection=area_Pixel,\n",
    "    description=\"export_area1_pixel\",\n",
    "    fileNamePrefix=\"area1_pixel\",\n",
    ")\n",
    "export2.start()"
   ]
  },
  {
   "cell_type": "code",
   "execution_count": null,
   "metadata": {},
   "outputs": [],
   "source": [
    "# in national parks\n",
    "paMMR = PA.filter(ee.Filter.eq(\"ISO3\", \"MMR\"))\n",
    "names = [\"1 oil palm\", \"2 rubber\", \"3 other\", \"4 shrub\", \"5 bare\", \"6 water\"]\n",
    "count = classified.clip(PA).eq([1, 2, 3, 4, 5, 6]).rename(names)\n",
    "total = count.multiply(ee.Image.pixelArea())\n",
    "area = total.reduceRegion(ee.Reducer.sum(), paMMR, scale, None, None, False, 1e13, 3)\n",
    "\n",
    "feature = ee.Feature(None)\n",
    "feature = feature.set(\"area\", area)\n",
    "PA_results = ee.FeatureCollection(feature)\n",
    "\n",
    "export3 = ee.batch.Export.table.toDrive(\n",
    "    collection=PA_results, description=\"export_PA\", fileNamePrefix=\"PA_area\"\n",
    ")\n",
    "export3.start()"
   ]
  },
  {
   "cell_type": "code",
   "execution_count": null,
   "metadata": {},
   "outputs": [],
   "source": [
    "# in Dawei\n",
    "names = [\"1 oil palm\", \"2 rubber\", \"3 other\", \"4 shrub\", \"5 bare\", \"6 water\"]\n",
    "count = classified.clip(dawei).eq([1, 2, 3, 4, 5, 6]).rename(names)\n",
    "total = count.multiply(ee.Image.pixelArea())\n",
    "area = total.reduceRegion(ee.Reducer.sum(), dawei, scale, None, None, False, 1e13, 3)\n",
    "\n",
    "feature = ee.Feature(None)\n",
    "feature = feature.set(\"area\", area)\n",
    "dawei_results = ee.FeatureCollection(feature)\n",
    "\n",
    "export4 = ee.batch.Export.table.toDrive(\n",
    "    collection=dawei_results, description=\"export_dawei\", fileNamePrefix=\"Dawei_area\"\n",
    ")\n",
    "export4.start()"
   ]
  },
  {
   "cell_type": "code",
   "execution_count": null,
   "metadata": {},
   "outputs": [],
   "source": [
    "# in Myeik\n",
    "names = [\"1 oil palm\", \"2 rubber\", \"3 other\", \"4 shrub\", \"5 bare\", \"6 water\"]\n",
    "count = classified.clip(myeik).eq([1, 2, 3, 4, 5, 6]).rename(names)\n",
    "total = count.multiply(ee.Image.pixelArea())\n",
    "area = total.reduceRegion(ee.Reducer.sum(), myeik, scale, None, None, False, 1e13, 3)\n",
    "\n",
    "feature = ee.Feature(None)\n",
    "feature = feature.set(\"area\", area)\n",
    "myeik_results = ee.FeatureCollection(feature)\n",
    "\n",
    "export5 = ee.batch.Export.table.toDrive(\n",
    "    collection=myeik_results, description=\"export_myeik\", fileNamePrefix=\"Myeik_area\"\n",
    ")\n",
    "export5.start()"
   ]
  },
  {
   "cell_type": "code",
   "execution_count": null,
   "metadata": {},
   "outputs": [],
   "source": [
    "# in Kawthaung\n",
    "names = [\"1 oil palm\", \"2 rubber\", \"3 other\", \"4 shrub\", \"5 bare\", \"6 water\"]\n",
    "count = classified.clip(kawthaung).eq([1, 2, 3, 4, 5, 6]).rename(names)\n",
    "total = count.multiply(ee.Image.pixelArea())\n",
    "area = total.reduceRegion(\n",
    "    ee.Reducer.sum(), kawthaung, scale, None, None, False, 1e13, 3\n",
    ")\n",
    "\n",
    "feature = ee.Feature(None)\n",
    "feature = feature.set(\"area\", area)\n",
    "kawthaung_results = ee.FeatureCollection(feature)\n",
    "\n",
    "export6 = ee.batch.Export.table.toDrive(\n",
    "    collection=kawthaung_results,\n",
    "    description=\"export_area1_kawthaung\",\n",
    "    fileNamePrefix=\"Kawthaung_area1\",\n",
    ")\n",
    "export6.start()"
   ]
  },
  {
   "cell_type": "code",
   "execution_count": null,
   "metadata": {},
   "outputs": [],
   "source": [
    "# Pixel counts in all reference data - to correct bias later\n",
    "names = [\"1 oil palm\", \"2 rubber\", \"3 other\", \"4 shrub\", \"5 bare\", \"6 water\"]\n",
    "palm_count = classified.clip(palm).eq([1, 2, 3, 4, 5, 6]).rename(names)\n",
    "rubber_count = classified.clip(rubber).eq([1, 2, 3, 4, 5, 6]).rename(names)\n",
    "other_count = classified.clip(other).eq([1, 2, 3, 4, 5, 6]).rename(names)\n",
    "shrub_count = classified.clip(shrub).eq([1, 2, 3, 4, 5, 6]).rename(names)\n",
    "bare_count = classified.clip(bare).eq([1, 2, 3, 4, 5, 6]).rename(names)\n",
    "water_count = classified.clip(water).eq([1, 2, 3, 4, 5, 6]).rename(names)\n",
    "\n",
    "palm_area = palm_count.reduceRegion(\n",
    "    ee.Reducer.sum(), roi, scale, None, None, False, 1e13, 3\n",
    ")\n",
    "rubber_area = rubber_count.reduceRegion(\n",
    "    ee.Reducer.sum(), roi, scale, None, None, False, 1e13, 3\n",
    ")\n",
    "other_area = other_count.reduceRegion(\n",
    "    ee.Reducer.sum(), roi, scale, None, None, False, 1e13, 3\n",
    ")\n",
    "shrub_area = shrub_count.reduceRegion(\n",
    "    ee.Reducer.sum(), roi, scale, None, None, False, 1e13, 3\n",
    ")\n",
    "bare_area = bare_count.reduceRegion(\n",
    "    ee.Reducer.sum(), roi, scale, None, None, False, 1e13, 3\n",
    ")\n",
    "water_area = water_count.reduceRegion(\n",
    "    ee.Reducer.sum(), roi, scale, None, None, False, 1e13, 3\n",
    ")\n",
    "\n",
    "feature = ee.Feature(None)\n",
    "feature = feature.set(\"palm\", palm_area)\n",
    "feature = feature.set(\"rubber\", rubber_area)\n",
    "feature = feature.set(\"other\", other_area)\n",
    "feature = feature.set(\"shrub\", shrub_area)\n",
    "feature = feature.set(\"bare\", bare_area)\n",
    "feature = feature.set(\"water\", water_area)\n",
    "area_pixel_results = ee.FeatureCollection(feature)\n",
    "\n",
    "export7 = ee.batch.Export.table.toDrive(\n",
    "    collection=area_pixel_results,\n",
    "    description=\"export_area1_sample_pixel\",\n",
    "    fileNamePrefix=\"area1_reference_pixel\",\n",
    ")\n",
    "export7.start()"
   ]
  },
  {
   "cell_type": "code",
   "execution_count": null,
   "metadata": {},
   "outputs": [],
   "source": [
    "# query current tasks\n",
    "tasks = ee.batch.Task.list()\n",
    "print(tasks[0])\n",
    "print(tasks[1])\n",
    "print(tasks[2])\n",
    "print(tasks[3])\n",
    "print(tasks[4])\n",
    "print(tasks[5])\n",
    "print(tasks[6])"
   ]
  },
  {
   "cell_type": "code",
   "execution_count": null,
   "metadata": {},
   "outputs": [],
   "source": []
  }
 ],
 "metadata": {
  "kernelspec": {
   "display_name": "Python 3",
   "language": "python",
   "name": "python3"
  },
  "language_info": {
   "codemirror_mode": {
    "name": "ipython",
    "version": 3
   },
   "file_extension": ".py",
   "mimetype": "text/x-python",
   "name": "python",
   "nbconvert_exporter": "python",
   "pygments_lexer": "ipython3",
   "version": "3.7.1"
  }
 },
 "nbformat": 4,
 "nbformat_minor": 2
}
