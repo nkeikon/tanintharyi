{
 "cells": [
  {
   "cell_type": "code",
   "execution_count": 25,
   "metadata": {},
   "outputs": [
    {
     "data": {
      "application/javascript": [
       "\n",
       "        setTimeout(function() {\n",
       "            var nbb_cell_id = 25;\n",
       "            var nbb_formatted_code = \"import ee\\n\\nee.Initialize()\\nfrom IPython.display import display, Image\";\n",
       "            var nbb_cells = Jupyter.notebook.get_cells();\n",
       "            for (var i = 0; i < nbb_cells.length; ++i) {\n",
       "                if (nbb_cells[i].input_prompt_number == nbb_cell_id) {\n",
       "                    nbb_cells[i].set_text(nbb_formatted_code);\n",
       "                    break;\n",
       "                }\n",
       "            }\n",
       "        }, 500);\n",
       "        "
      ],
      "text/plain": [
       "<IPython.core.display.Javascript object>"
      ]
     },
     "metadata": {},
     "output_type": "display_data"
    }
   ],
   "source": [
    "import ee\n",
    "ee.Initialize()\n",
    "from IPython.display import display, Image"
   ]
  },
  {
   "cell_type": "code",
   "execution_count": 26,
   "metadata": {},
   "outputs": [
    {
     "data": {
      "application/javascript": [
       "\n",
       "        setTimeout(function() {\n",
       "            var nbb_cell_id = 26;\n",
       "            var nbb_formatted_code = \"scale = 20\";\n",
       "            var nbb_cells = Jupyter.notebook.get_cells();\n",
       "            for (var i = 0; i < nbb_cells.length; ++i) {\n",
       "                if (nbb_cells[i].input_prompt_number == nbb_cell_id) {\n",
       "                    nbb_cells[i].set_text(nbb_formatted_code);\n",
       "                    break;\n",
       "                }\n",
       "            }\n",
       "        }, 500);\n",
       "        "
      ],
      "text/plain": [
       "<IPython.core.display.Javascript object>"
      ]
     },
     "metadata": {},
     "output_type": "display_data"
    }
   ],
   "source": [
    "scale = 20"
   ]
  },
  {
   "cell_type": "code",
   "execution_count": 27,
   "metadata": {},
   "outputs": [
    {
     "data": {
      "application/javascript": [
       "\n",
       "        setTimeout(function() {\n",
       "            var nbb_cell_id = 27;\n",
       "            var nbb_formatted_code = \"roi = ee.FeatureCollection(\\\"users/nkeikon/myanmar_sr/area1\\\")\\nop = ee.FeatureCollection(\\\"users/nkeikon/myanmar_sr/OP_young\\\")\\nPA = ee.FeatureCollection(\\\"WCMC/WDPA/current/polygons\\\")\\ns2TNI = ee.Image(\\\"users/nkeikon/myanmar_sr/s2image\\\").clip(roi)\\npalm = ee.FeatureCollection(\\\"users/nkeikon/myanmar_sr/palm_area1\\\")\\nrubber = ee.FeatureCollection(\\\"users/nkeikon/myanmar_sr/rubber_area1\\\")\\nother = ee.FeatureCollection(\\\"users/nkeikon/myanmar_sr/other_area1\\\")\\nbare = ee.FeatureCollection(\\\"users/nkeikon/myanmar_sr/bare_area1\\\")\\nwater = ee.FeatureCollection(\\\"users/nkeikon/myanmar_sr/water_area1\\\")\\nshrub = ee.FeatureCollection(\\\"users/nkeikon/myanmar_sr/shrub_area1\\\")\";\n",
       "            var nbb_cells = Jupyter.notebook.get_cells();\n",
       "            for (var i = 0; i < nbb_cells.length; ++i) {\n",
       "                if (nbb_cells[i].input_prompt_number == nbb_cell_id) {\n",
       "                    nbb_cells[i].set_text(nbb_formatted_code);\n",
       "                    break;\n",
       "                }\n",
       "            }\n",
       "        }, 500);\n",
       "        "
      ],
      "text/plain": [
       "<IPython.core.display.Javascript object>"
      ]
     },
     "metadata": {},
     "output_type": "display_data"
    }
   ],
   "source": [
    "roi = ee.FeatureCollection(\"users/nkeikon/myanmar_sr/area1\")\n",
    "op = ee.FeatureCollection(\"users/nkeikon/myanmar_sr/OP_young\")\n",
    "PA = ee.FeatureCollection(\"WCMC/WDPA/current/polygons\")\n",
    "s2TNI = ee.Image(\"users/nkeikon/myanmar_sr/s2image\").clip(roi)\n",
    "palm = ee.FeatureCollection(\"users/nkeikon/myanmar_sr/palm_area1\")\n",
    "rubber = ee.FeatureCollection(\"users/nkeikon/myanmar_sr/rubber_area1\")\n",
    "other = ee.FeatureCollection(\"users/nkeikon/myanmar_sr/other_area1\")\n",
    "bare = ee.FeatureCollection(\"users/nkeikon/myanmar_sr/bare_area1\")\n",
    "water = ee.FeatureCollection(\"users/nkeikon/myanmar_sr/water_area1\")\n",
    "shrub = ee.FeatureCollection(\"users/nkeikon/myanmar_sr/shrub_area1\")"
   ]
  },
  {
   "cell_type": "code",
   "execution_count": 28,
   "metadata": {},
   "outputs": [
    {
     "data": {
      "text/html": [
       "<img src=\"https://earthengine.googleapis.com/api/thumb?thumbid=67be34f0d08b3b101b2ace8f57c386ac&token=c6f44db676e06a589bcd76c32f7af222\"/>"
      ],
      "text/plain": [
       "<IPython.core.display.Image object>"
      ]
     },
     "execution_count": 28,
     "metadata": {},
     "output_type": "execute_result"
    },
    {
     "data": {
      "application/javascript": [
       "\n",
       "        setTimeout(function() {\n",
       "            var nbb_cell_id = 28;\n",
       "            var nbb_formatted_code = \"Image(\\n    url=s2TNI.getThumbUrl(\\n        {\\\"bands\\\": \\\"red_mean,green_mean,blue_mean\\\", \\\"min\\\": 0, \\\"max\\\": 0.4, \\\"size\\\": \\\"400\\\"}\\n    )\\n)\";\n",
       "            var nbb_cells = Jupyter.notebook.get_cells();\n",
       "            for (var i = 0; i < nbb_cells.length; ++i) {\n",
       "                if (nbb_cells[i].input_prompt_number == nbb_cell_id) {\n",
       "                    nbb_cells[i].set_text(nbb_formatted_code);\n",
       "                    break;\n",
       "                }\n",
       "            }\n",
       "        }, 500);\n",
       "        "
      ],
      "text/plain": [
       "<IPython.core.display.Javascript object>"
      ]
     },
     "metadata": {},
     "output_type": "display_data"
    }
   ],
   "source": [
    "Image(\n",
    "    url=s2TNI.getThumbUrl(\n",
    "        {\"bands\": \"red_mean,green_mean,blue_mean\", \"min\": 0, \"max\": 0.4, \"size\": \"400\"}\n",
    "    )\n",
    ")"
   ]
  },
  {
   "cell_type": "code",
   "execution_count": 29,
   "metadata": {},
   "outputs": [
    {
     "data": {
      "application/javascript": [
       "\n",
       "        setTimeout(function() {\n",
       "            var nbb_cell_id = 29;\n",
       "            var nbb_formatted_code = \"# Add Sentinel-1 data (only ascending for Jan to Mar 2018 due to noise)\\ns1_JanMar18 = (\\n    ee.ImageCollection(\\\"COPERNICUS/S1_GRD\\\")\\n    .filter(ee.Filter.eq(\\\"instrumentMode\\\", \\\"IW\\\"))\\n    .filter(ee.Filter.listContains(\\\"transmitterReceiverPolarisation\\\", \\\"VH\\\"))\\n    .filter(ee.Filter.listContains(\\\"transmitterReceiverPolarisation\\\", \\\"VV\\\"))\\n    .filter(ee.Filter.eq(\\\"orbitProperties_pass\\\", \\\"ASCENDING\\\"))\\n    .filterDate(\\\"2018-01-01\\\", \\\"2018-03-31\\\")\\n    .filterBounds(roi)\\n)\\n\\ns1_Apr18Jan19 = (\\n    ee.ImageCollection(\\\"COPERNICUS/S1_GRD\\\")\\n    .filter(ee.Filter.eq(\\\"instrumentMode\\\", \\\"IW\\\"))\\n    .filter(ee.Filter.listContains(\\\"transmitterReceiverPolarisation\\\", \\\"VH\\\"))\\n    .filter(ee.Filter.listContains(\\\"transmitterReceiverPolarisation\\\", \\\"VV\\\"))\\n    .filterDate(\\\"2018-04-01\\\", \\\"2019-01-31\\\")\\n    .filterBounds(roi)\\n)\\n\\ns1 = s1_JanMar18.merge(s1_Apr18Jan19)\\n\\ns1mean = s1.mean().select([\\\"VV\\\", \\\"VH\\\"], [\\\"VV_mean\\\", \\\"VH_mean\\\"]).clip(roi)\\ns1stdev = s1.reduce(ee.Reducer.stdDev()).clip(roi)\";\n",
       "            var nbb_cells = Jupyter.notebook.get_cells();\n",
       "            for (var i = 0; i < nbb_cells.length; ++i) {\n",
       "                if (nbb_cells[i].input_prompt_number == nbb_cell_id) {\n",
       "                    nbb_cells[i].set_text(nbb_formatted_code);\n",
       "                    break;\n",
       "                }\n",
       "            }\n",
       "        }, 500);\n",
       "        "
      ],
      "text/plain": [
       "<IPython.core.display.Javascript object>"
      ]
     },
     "metadata": {},
     "output_type": "display_data"
    }
   ],
   "source": [
    "# Add Sentinel-1 data (only ascending for Jan to Mar 2018 due to noise)\n",
    "s1_JanMar18 = (\n",
    "    ee.ImageCollection(\"COPERNICUS/S1_GRD\")\n",
    "    .filter(ee.Filter.eq(\"instrumentMode\", \"IW\"))\n",
    "    .filter(ee.Filter.listContains(\"transmitterReceiverPolarisation\", \"VH\"))\n",
    "    .filter(ee.Filter.listContains(\"transmitterReceiverPolarisation\", \"VV\"))\n",
    "    .filter(ee.Filter.eq(\"orbitProperties_pass\", \"ASCENDING\"))\n",
    "    .filterDate(\"2018-01-01\", \"2018-03-31\")\n",
    "    .filterBounds(roi)\n",
    ")\n",
    "\n",
    "s1_Apr18Jan19 = (\n",
    "    ee.ImageCollection(\"COPERNICUS/S1_GRD\")\n",
    "    .filter(ee.Filter.eq(\"instrumentMode\", \"IW\"))\n",
    "    .filter(ee.Filter.listContains(\"transmitterReceiverPolarisation\", \"VH\"))\n",
    "    .filter(ee.Filter.listContains(\"transmitterReceiverPolarisation\", \"VV\"))\n",
    "    .filterDate(\"2018-04-01\", \"2019-01-31\")\n",
    "    .filterBounds(roi)\n",
    ")\n",
    "\n",
    "s1 = s1_JanMar18.merge(s1_Apr18Jan19)\n",
    "\n",
    "s1mean = s1.mean().select([\"VV\", \"VH\"], [\"VV_mean\", \"VH_mean\"]).clip(roi)\n",
    "s1stdev = s1.reduce(ee.Reducer.stdDev()).clip(roi)"
   ]
  },
  {
   "cell_type": "code",
   "execution_count": 30,
   "metadata": {},
   "outputs": [
    {
     "data": {
      "application/javascript": [
       "\n",
       "        setTimeout(function() {\n",
       "            var nbb_cell_id = 30;\n",
       "            var nbb_formatted_code = \"# Compute the Normalized Difference Vegetation Index (NDVI)\\nred = s2TNI.select(\\\"red_mean\\\")\\nnir = s2TNI.select(\\\"nir_mean\\\")\\nndvi = nir.subtract(red).divide(nir.add(red)).rename(\\\"NDVI\\\")\\n\\n# Compute standard deviation (stDev) as texture of the NDVI\\ntexture = ndvi.reduceNeighborhood(\\n    reducer=ee.Reducer.stdDev(), kernel=ee.Kernel.square(5)\\n)\\n\\n# Compute elevation, slope and aspect\\nSRTM = ee.Image(\\\"USGS/SRTMGL1_003\\\").clip(roi)\\nslope = ee.Terrain.slope(SRTM)\\n\\n# Add them to bands\\ns2final = (\\n    ee.Image(s2TNI)\\n    .addBands(ndvi)\\n    .addBands(texture)\\n    .addBands(slope)\\n    .addBands(s1mean)\\n    .addBands(s1stdev)\\n    .float()\\n)\";\n",
       "            var nbb_cells = Jupyter.notebook.get_cells();\n",
       "            for (var i = 0; i < nbb_cells.length; ++i) {\n",
       "                if (nbb_cells[i].input_prompt_number == nbb_cell_id) {\n",
       "                    nbb_cells[i].set_text(nbb_formatted_code);\n",
       "                    break;\n",
       "                }\n",
       "            }\n",
       "        }, 500);\n",
       "        "
      ],
      "text/plain": [
       "<IPython.core.display.Javascript object>"
      ]
     },
     "metadata": {},
     "output_type": "display_data"
    }
   ],
   "source": [
    "# Compute the Normalized Difference Vegetation Index (NDVI)\n",
    "red = s2TNI.select(\"red_mean\")\n",
    "nir = s2TNI.select(\"nir_mean\")\n",
    "ndvi = nir.subtract(red).divide(nir.add(red)).rename(\"NDVI\")\n",
    "\n",
    "# Compute standard deviation (stDev) as texture of the NDVI\n",
    "texture = ndvi.reduceNeighborhood(\n",
    "    reducer=ee.Reducer.stdDev(), kernel=ee.Kernel.square(5)\n",
    ")\n",
    "\n",
    "# Compute elevation, slope and aspect\n",
    "SRTM = ee.Image(\"USGS/SRTMGL1_003\").clip(roi)\n",
    "slope = ee.Terrain.slope(SRTM)\n",
    "\n",
    "# Add them to bands\n",
    "s2final = (\n",
    "    ee.Image(s2TNI)\n",
    "    .addBands(ndvi)\n",
    "    .addBands(texture)\n",
    "    .addBands(slope)\n",
    "    .addBands(s1mean)\n",
    "    .addBands(s1stdev)\n",
    "    .float()\n",
    ")"
   ]
  },
  {
   "cell_type": "code",
   "execution_count": 31,
   "metadata": {},
   "outputs": [
    {
     "data": {
      "application/javascript": [
       "\n",
       "        setTimeout(function() {\n",
       "            var nbb_cell_id = 31;\n",
       "            var nbb_formatted_code = \"bands = [\\n    \\\"blue_mean\\\",\\n    \\\"green_mean\\\",\\n    \\\"red_mean\\\",\\n    \\\"red1_mean\\\",\\n    \\\"red2_mean\\\",\\n    \\\"red3_mean\\\",\\n    \\\"nir_mean\\\",\\n    \\\"red4_mean\\\",\\n    \\\"swir1_mean\\\",\\n    \\\"swir2_mean\\\",\\n    \\\"NDVI\\\",\\n    \\\"NDVI_stdDev\\\",\\n    \\\"slope\\\",\\n    \\\"VH_mean\\\",\\n    \\\"VV_mean\\\",\\n    \\\"VH_stdDev\\\",\\n    \\\"VV_stdDev\\\",\\n]\\ns2finalWbands = s2final.select(bands)\\n\\n# Scale the image for classification\\ns2classification = s2finalWbands.reproject(\\n    ee.Projection(\\\"EPSG:4326\\\").atScale(scale)\\n).reduceResolution(reducer=ee.Reducer.mean(), maxPixels=65536)\";\n",
       "            var nbb_cells = Jupyter.notebook.get_cells();\n",
       "            for (var i = 0; i < nbb_cells.length; ++i) {\n",
       "                if (nbb_cells[i].input_prompt_number == nbb_cell_id) {\n",
       "                    nbb_cells[i].set_text(nbb_formatted_code);\n",
       "                    break;\n",
       "                }\n",
       "            }\n",
       "        }, 500);\n",
       "        "
      ],
      "text/plain": [
       "<IPython.core.display.Javascript object>"
      ]
     },
     "metadata": {},
     "output_type": "display_data"
    }
   ],
   "source": [
    "bands = [\n",
    "    \"blue_mean\",\n",
    "    \"green_mean\",\n",
    "    \"red_mean\",\n",
    "    \"red1_mean\",\n",
    "    \"red2_mean\",\n",
    "    \"red3_mean\",\n",
    "    \"nir_mean\",\n",
    "    \"red4_mean\",\n",
    "    \"swir1_mean\",\n",
    "    \"swir2_mean\",\n",
    "    \"NDVI\",\n",
    "    \"NDVI_stdDev\",\n",
    "    \"slope\",\n",
    "    \"VH_mean\",\n",
    "    \"VV_mean\",\n",
    "    \"VH_stdDev\",\n",
    "    \"VV_stdDev\",\n",
    "]\n",
    "s2finalWbands = s2final.select(bands)\n",
    "\n",
    "# Scale the image for classification\n",
    "s2classification = s2finalWbands.reproject(\n",
    "    ee.Projection(\"EPSG:4326\").atScale(scale)\n",
    ").reduceResolution(reducer=ee.Reducer.mean(), maxPixels=65536)"
   ]
  },
  {
   "cell_type": "code",
   "execution_count": 32,
   "metadata": {},
   "outputs": [
    {
     "data": {
      "application/javascript": [
       "\n",
       "        setTimeout(function() {\n",
       "            var nbb_cell_id = 32;\n",
       "            var nbb_formatted_code = \"randomSeed = 0\\nn = randomSeed\\nsplit = 0.5\\n\\n# Get the values for all pixels in each polygon in the training.\\npalmSample = s2classification.sampleRegions(\\n    collection=palm, properties=[\\\"class\\\"], scale=scale\\n)\\nrubberSample = s2classification.sampleRegions(\\n    collection=rubber, properties=[\\\"class\\\"], scale=scale\\n)\\notherSample = s2classification.sampleRegions(\\n    collection=other, properties=[\\\"class\\\"], scale=scale\\n)\\nshrubSample = s2classification.sampleRegions(\\n    collection=shrub, properties=[\\\"class\\\"], scale=scale\\n)\\nbareSample = s2classification.sampleRegions(\\n    collection=bare, properties=[\\\"class\\\"], scale=scale\\n)\\nwaterSample = s2classification.sampleRegions(\\n    collection=water, properties=[\\\"class\\\"], scale=scale\\n)\\n\\nrandomPalm = palmSample.randomColumn(\\\"random\\\", n)\\nrandomRubber = rubberSample.randomColumn(\\\"random\\\", n)\\nrandomOther = otherSample.randomColumn(\\\"random\\\", n)\\nrandomShrub = shrubSample.randomColumn(\\\"random\\\", n)\\nrandomBare = bareSample.randomColumn(\\\"random\\\", n)\\nrandomWater = waterSample.randomColumn(\\\"random\\\", n)\\n\\ntrainingSample = (\\n    randomPalm.filter(ee.Filter.lt(\\\"random\\\", split))\\n    .merge(randomRubber.filter(ee.Filter.lt(\\\"random\\\", split)))\\n    .merge(randomOther.filter(ee.Filter.lt(\\\"random\\\", split)))\\n    .merge(randomShrub.filter(ee.Filter.lt(\\\"random\\\", split)))\\n    .merge(randomBare.filter(ee.Filter.lt(\\\"random\\\", split)))\\n    .merge(randomWater.filter(ee.Filter.lt(\\\"random\\\", split)))\\n)\\n\\ntestingSample = (\\n    randomPalm.filter(ee.Filter.gte(\\\"random\\\", split))\\n    .merge(randomRubber.filter(ee.Filter.gte(\\\"random\\\", split)))\\n    .merge(randomOther.filter(ee.Filter.gte(\\\"random\\\", split)))\\n    .merge(randomShrub.filter(ee.Filter.gte(\\\"random\\\", split)))\\n    .merge(randomBare.filter(ee.Filter.gte(\\\"random\\\", split)))\\n    .merge(randomWater.filter(ee.Filter.gte(\\\"random\\\", split)))\\n)\";\n",
       "            var nbb_cells = Jupyter.notebook.get_cells();\n",
       "            for (var i = 0; i < nbb_cells.length; ++i) {\n",
       "                if (nbb_cells[i].input_prompt_number == nbb_cell_id) {\n",
       "                    nbb_cells[i].set_text(nbb_formatted_code);\n",
       "                    break;\n",
       "                }\n",
       "            }\n",
       "        }, 500);\n",
       "        "
      ],
      "text/plain": [
       "<IPython.core.display.Javascript object>"
      ]
     },
     "metadata": {},
     "output_type": "display_data"
    }
   ],
   "source": [
    "randomSeed = 0\n",
    "n = randomSeed\n",
    "split = 0.5\n",
    "\n",
    "# Get the values for all pixels in each polygon in the training.\n",
    "palmSample = s2classification.sampleRegions(\n",
    "    collection=palm, properties=[\"class\"], scale=scale\n",
    ")\n",
    "rubberSample = s2classification.sampleRegions(\n",
    "    collection=rubber, properties=[\"class\"], scale=scale\n",
    ")\n",
    "otherSample = s2classification.sampleRegions(\n",
    "    collection=other, properties=[\"class\"], scale=scale\n",
    ")\n",
    "shrubSample = s2classification.sampleRegions(\n",
    "    collection=shrub, properties=[\"class\"], scale=scale\n",
    ")\n",
    "bareSample = s2classification.sampleRegions(\n",
    "    collection=bare, properties=[\"class\"], scale=scale\n",
    ")\n",
    "waterSample = s2classification.sampleRegions(\n",
    "    collection=water, properties=[\"class\"], scale=scale\n",
    ")\n",
    "\n",
    "randomPalm = palmSample.randomColumn(\"random\", n)\n",
    "randomRubber = rubberSample.randomColumn(\"random\", n)\n",
    "randomOther = otherSample.randomColumn(\"random\", n)\n",
    "randomShrub = shrubSample.randomColumn(\"random\", n)\n",
    "randomBare = bareSample.randomColumn(\"random\", n)\n",
    "randomWater = waterSample.randomColumn(\"random\", n)\n",
    "\n",
    "trainingSample = (\n",
    "    randomPalm.filter(ee.Filter.lt(\"random\", split))\n",
    "    .merge(randomRubber.filter(ee.Filter.lt(\"random\", split)))\n",
    "    .merge(randomOther.filter(ee.Filter.lt(\"random\", split)))\n",
    "    .merge(randomShrub.filter(ee.Filter.lt(\"random\", split)))\n",
    "    .merge(randomBare.filter(ee.Filter.lt(\"random\", split)))\n",
    "    .merge(randomWater.filter(ee.Filter.lt(\"random\", split)))\n",
    ")\n",
    "\n",
    "testingSample = (\n",
    "    randomPalm.filter(ee.Filter.gte(\"random\", split))\n",
    "    .merge(randomRubber.filter(ee.Filter.gte(\"random\", split)))\n",
    "    .merge(randomOther.filter(ee.Filter.gte(\"random\", split)))\n",
    "    .merge(randomShrub.filter(ee.Filter.gte(\"random\", split)))\n",
    "    .merge(randomBare.filter(ee.Filter.gte(\"random\", split)))\n",
    "    .merge(randomWater.filter(ee.Filter.gte(\"random\", split)))\n",
    ")"
   ]
  },
  {
   "cell_type": "code",
   "execution_count": 34,
   "metadata": {},
   "outputs": [
    {
     "name": "stdout",
     "output_type": "stream",
     "text": [
      "palm 21564\n",
      "rubber 6863\n",
      "other 56520\n",
      "shrub 18399\n",
      "bare 1301\n",
      "water 6985\n"
     ]
    },
    {
     "data": {
      "application/javascript": [
       "\n",
       "        setTimeout(function() {\n",
       "            var nbb_cell_id = 34;\n",
       "            var nbb_formatted_code = \"print(\\\"palm\\\", randomPalm.size().getInfo())\\nprint(\\\"rubber\\\", randomRubber.size().getInfo())\\nprint(\\\"other\\\", randomOther.size().getInfo())\\nprint(\\\"shrub\\\", randomShrub.size().getInfo())\\nprint(\\\"bare\\\", randomBare.size().getInfo())\\nprint(\\\"water\\\", randomWater.size().getInfo())\\n# print('training', trainingSample.size().getInfo())\\n# print('testing', testingSample.size().getInfo())\";\n",
       "            var nbb_cells = Jupyter.notebook.get_cells();\n",
       "            for (var i = 0; i < nbb_cells.length; ++i) {\n",
       "                if (nbb_cells[i].input_prompt_number == nbb_cell_id) {\n",
       "                    nbb_cells[i].set_text(nbb_formatted_code);\n",
       "                    break;\n",
       "                }\n",
       "            }\n",
       "        }, 500);\n",
       "        "
      ],
      "text/plain": [
       "<IPython.core.display.Javascript object>"
      ]
     },
     "metadata": {},
     "output_type": "display_data"
    }
   ],
   "source": [
    "print(\"palm\", randomPalm.size().getInfo())\n",
    "print(\"rubber\", randomRubber.size().getInfo())\n",
    "print(\"other\", randomOther.size().getInfo())\n",
    "print(\"shrub\", randomShrub.size().getInfo())\n",
    "print(\"bare\", randomBare.size().getInfo())\n",
    "print(\"water\", randomWater.size().getInfo())\n",
    "# print('training', trainingSample.size().getInfo())\n",
    "# print('testing', testingSample.size().getInfo())"
   ]
  },
  {
   "cell_type": "code",
   "execution_count": 35,
   "metadata": {},
   "outputs": [
    {
     "data": {
      "application/javascript": [
       "\n",
       "        setTimeout(function() {\n",
       "            var nbb_cell_id = 35;\n",
       "            var nbb_formatted_code = \"classifier = ee.Classifier.randomForest(numberOfTrees=100, variablesPerSplit=4).train(\\n    trainingSample, \\\"class\\\", bands\\n)\\n\\nclassified = s2classification.classify(classifier)\";\n",
       "            var nbb_cells = Jupyter.notebook.get_cells();\n",
       "            for (var i = 0; i < nbb_cells.length; ++i) {\n",
       "                if (nbb_cells[i].input_prompt_number == nbb_cell_id) {\n",
       "                    nbb_cells[i].set_text(nbb_formatted_code);\n",
       "                    break;\n",
       "                }\n",
       "            }\n",
       "        }, 500);\n",
       "        "
      ],
      "text/plain": [
       "<IPython.core.display.Javascript object>"
      ]
     },
     "metadata": {},
     "output_type": "display_data"
    }
   ],
   "source": [
    "classifier = ee.Classifier.randomForest(numberOfTrees=100, variablesPerSplit=4).train(\n",
    "    trainingSample, \"class\", bands\n",
    ")\n",
    "\n",
    "classified = s2classification.classify(classifier)"
   ]
  },
  {
   "cell_type": "code",
   "execution_count": 36,
   "metadata": {},
   "outputs": [
    {
     "data": {
      "application/javascript": [
       "\n",
       "        setTimeout(function() {\n",
       "            var nbb_cell_id = 36;\n",
       "            var nbb_formatted_code = \"# Get a confusion matrix representing resubstitution accuracy\\n# trainAccuracy = classifier.confusionMatrix()\\n# print('Resubstitution error matrix: ', trainAccuracy.getInfo())\\n# print('Training overall accuracy: ', trainAccuracy.accuracy().getInfo())\\n\\n# Classify the validation data\\nvalidated = testingSample.classify(classifier)\\n\\n# Get a confusion matrix representing expected accuracy\\ntestAccuracy = validated.errorMatrix(\\\"class\\\", \\\"classification\\\")\\nerrorMatrix = testAccuracy.array()\\n\\noverallAccuracy = testAccuracy.accuracy()\\nproducersAccuracy = testAccuracy.producersAccuracy()\\nconsumersAccuracy = testAccuracy.consumersAccuracy()\\n\\nfeature = ee.Feature(None)\\nfeature = feature.set(\\\"matrix\\\", errorMatrix)\\nfeature = feature.set(\\\"results\\\", overallAccuracy)\\nfeature = feature.set(\\\"producer\\\", producersAccuracy)\\nfeature = feature.set(\\\"consumer\\\", consumersAccuracy)\\naccuracy_results = ee.FeatureCollection(feature)\\n\\n# Export as csv\\nexport1 = ee.batch.Export.table.toDrive(\\n    collection=accuracy_results,\\n    description=\\\"export_area1_accuracy\\\",\\n    fileNamePrefix=\\\"area1_accuracy\\\",\\n)\\nexport1.start()\";\n",
       "            var nbb_cells = Jupyter.notebook.get_cells();\n",
       "            for (var i = 0; i < nbb_cells.length; ++i) {\n",
       "                if (nbb_cells[i].input_prompt_number == nbb_cell_id) {\n",
       "                    nbb_cells[i].set_text(nbb_formatted_code);\n",
       "                    break;\n",
       "                }\n",
       "            }\n",
       "        }, 500);\n",
       "        "
      ],
      "text/plain": [
       "<IPython.core.display.Javascript object>"
      ]
     },
     "metadata": {},
     "output_type": "display_data"
    }
   ],
   "source": [
    "# Get a confusion matrix representing resubstitution accuracy\n",
    "# trainAccuracy = classifier.confusionMatrix()\n",
    "# print('Resubstitution error matrix: ', trainAccuracy.getInfo())\n",
    "# print('Training overall accuracy: ', trainAccuracy.accuracy().getInfo())\n",
    "\n",
    "# Classify the validation data\n",
    "validated = testingSample.classify(classifier)\n",
    "\n",
    "# Get a confusion matrix representing expected accuracy\n",
    "testAccuracy = validated.errorMatrix(\"class\", \"classification\")\n",
    "errorMatrix = testAccuracy.array()\n",
    "\n",
    "overallAccuracy = testAccuracy.accuracy()\n",
    "producersAccuracy = testAccuracy.producersAccuracy()\n",
    "consumersAccuracy = testAccuracy.consumersAccuracy()\n",
    "\n",
    "feature = ee.Feature(None)\n",
    "feature = feature.set(\"matrix\", errorMatrix)\n",
    "feature = feature.set(\"results\", overallAccuracy)\n",
    "feature = feature.set(\"producer\", producersAccuracy)\n",
    "feature = feature.set(\"consumer\", consumersAccuracy)\n",
    "accuracy_results = ee.FeatureCollection(feature)\n",
    "\n",
    "# Export as csv\n",
    "export1 = ee.batch.Export.table.toDrive(\n",
    "    collection=accuracy_results,\n",
    "    description=\"export_area1_accuracy\",\n",
    "    fileNamePrefix=\"area1_accuracy\",\n",
    ")\n",
    "export1.start()"
   ]
  },
  {
   "cell_type": "code",
   "execution_count": 38,
   "metadata": {},
   "outputs": [
    {
     "data": {
      "application/javascript": [
       "\n",
       "        setTimeout(function() {\n",
       "            var nbb_cell_id = 38;\n",
       "            var nbb_formatted_code = \"# Run a majority filter\\n# radius (Float, default: 1.5) kernelType (String, default: \\\"circle\\\"):units (String, default: \\\"pixels\\\")\\nfiltered = classified.focal_mode()\";\n",
       "            var nbb_cells = Jupyter.notebook.get_cells();\n",
       "            for (var i = 0; i < nbb_cells.length; ++i) {\n",
       "                if (nbb_cells[i].input_prompt_number == nbb_cell_id) {\n",
       "                    nbb_cells[i].set_text(nbb_formatted_code);\n",
       "                    break;\n",
       "                }\n",
       "            }\n",
       "        }, 500);\n",
       "        "
      ],
      "text/plain": [
       "<IPython.core.display.Javascript object>"
      ]
     },
     "metadata": {},
     "output_type": "display_data"
    }
   ],
   "source": [
    "# Run a majority filter\n",
    "# radius (Float, default: 1.5) kernelType (String, default: \"circle\"):units (String, default: \"pixels\")\n",
    "filtered = classified.focal_mode()"
   ]
  },
  {
   "cell_type": "code",
   "execution_count": 39,
   "metadata": {},
   "outputs": [
    {
     "data": {
      "application/javascript": [
       "\n",
       "        setTimeout(function() {\n",
       "            var nbb_cell_id = 39;\n",
       "            var nbb_formatted_code = \"validation = filtered.sampleRegions(\\n    collection=testingSample, properties=[\\\"class\\\"], scale=scale\\n)\\n\\n# Classify the validation data\\nvalidated = validation.classify(classifier)\\n\\n# Get a confusion matrix representing expected accuracy\\ntestAccuracy = validation.errorMatrix(\\\"class\\\", \\\"classification\\\")\\nerrorMatrix = testAccuracy.array()\\n\\noverallAccuracy = testAccuracy.accuracy()\\nproducersAccuracy = testAccuracy.producersAccuracy()\\nconsumersAccuracy = testAccuracy.consumersAccuracy()\\n\\nfeature = ee.Feature(None)\\nfeature = feature.set(\\\"matrix\\\", errorMatrix)\\nfeature = feature.set(\\\"results\\\", overallAccuracy)\\nfeature = feature.set(\\\"producer\\\", producersAccuracy)\\nfeature = feature.set(\\\"consumer\\\", consumersAccuracy)\\naccuracy_results = ee.FeatureCollection(feature)\\n\\n# Export as csv\\nexport2 = ee.batch.Export.table.toDrive(\\n    collection=accuracy_results,\\n    description=\\\"export_area1_accuracy\\\",\\n    fileNamePrefix=\\\"area1_accuracy\\\",\\n)\\nexport2.start()\";\n",
       "            var nbb_cells = Jupyter.notebook.get_cells();\n",
       "            for (var i = 0; i < nbb_cells.length; ++i) {\n",
       "                if (nbb_cells[i].input_prompt_number == nbb_cell_id) {\n",
       "                    nbb_cells[i].set_text(nbb_formatted_code);\n",
       "                    break;\n",
       "                }\n",
       "            }\n",
       "        }, 500);\n",
       "        "
      ],
      "text/plain": [
       "<IPython.core.display.Javascript object>"
      ]
     },
     "metadata": {},
     "output_type": "display_data"
    }
   ],
   "source": [
    "validation = filtered.sampleRegions(\n",
    "    collection=testingSample, properties=[\"class\"], scale=scale\n",
    ")\n",
    "\n",
    "# Classify the validation data\n",
    "validated = validation.classify(classifier)\n",
    "\n",
    "# Get a confusion matrix representing expected accuracy\n",
    "testAccuracy = validation.errorMatrix(\"class\", \"classification\")\n",
    "errorMatrix = testAccuracy.array()\n",
    "\n",
    "overallAccuracy = testAccuracy.accuracy()\n",
    "producersAccuracy = testAccuracy.producersAccuracy()\n",
    "consumersAccuracy = testAccuracy.consumersAccuracy()\n",
    "\n",
    "feature = ee.Feature(None)\n",
    "feature = feature.set(\"matrix\", errorMatrix)\n",
    "feature = feature.set(\"results\", overallAccuracy)\n",
    "feature = feature.set(\"producer\", producersAccuracy)\n",
    "feature = feature.set(\"consumer\", consumersAccuracy)\n",
    "accuracy_results = ee.FeatureCollection(feature)\n",
    "\n",
    "# Export as csv\n",
    "export2 = ee.batch.Export.table.toDrive(\n",
    "    collection=accuracy_results,\n",
    "    description=\"export_area1_accuracy\",\n",
    "    fileNamePrefix=\"area1_accuracy\",\n",
    ")\n",
    "export2.start()"
   ]
  },
  {
   "cell_type": "code",
   "execution_count": 40,
   "metadata": {},
   "outputs": [
    {
     "data": {
      "application/javascript": [
       "\n",
       "        setTimeout(function() {\n",
       "            var nbb_cell_id = 40;\n",
       "            var nbb_formatted_code = \"# Export the image to estimate area\\n# to drive\\nexport3 = ee.batch.Export.image.toDrive(\\n    image=filtered,\\n    description=\\\"export_area1_classified_drive\\\",\\n    fileNamePrefix=\\\"area1_classified\\\",\\n    scale=scale,\\n    maxPixels=1e13,\\n)\\nexport3.start()\\n\\n# to asset (replace with your username)\\nexport4 = ee.batch.Export.image.toAsset(\\n    image=filtered,\\n    description=\\\"export_area1_classified_asset\\\",\\n    assetId=\\\"users/nkeikon/area1_classified\\\",\\n    scale=20,\\n    maxPixels=1e13,\\n)\\n# export4.start()\";\n",
       "            var nbb_cells = Jupyter.notebook.get_cells();\n",
       "            for (var i = 0; i < nbb_cells.length; ++i) {\n",
       "                if (nbb_cells[i].input_prompt_number == nbb_cell_id) {\n",
       "                    nbb_cells[i].set_text(nbb_formatted_code);\n",
       "                    break;\n",
       "                }\n",
       "            }\n",
       "        }, 500);\n",
       "        "
      ],
      "text/plain": [
       "<IPython.core.display.Javascript object>"
      ]
     },
     "metadata": {},
     "output_type": "display_data"
    }
   ],
   "source": [
    "# Export the image to estimate area\n",
    "# to drive\n",
    "export3 = ee.batch.Export.image.toDrive(\n",
    "    image=filtered,\n",
    "    description=\"export_area1_classified_drive\",\n",
    "    fileNamePrefix=\"area1_classified\",\n",
    "    scale=scale,\n",
    "    maxPixels=1e13,\n",
    ")\n",
    "export3.start()\n",
    "\n",
    "# to asset (replace with your username)\n",
    "export4 = ee.batch.Export.image.toAsset(\n",
    "    image=filtered,\n",
    "    description=\"export_area1_classified_asset\",\n",
    "    assetId=\"users/nkeikon/area1_classified\",\n",
    "    scale=20,\n",
    "    maxPixels=1e13,\n",
    ")\n",
    "# export4.start()"
   ]
  },
  {
   "cell_type": "code",
   "execution_count": 41,
   "metadata": {},
   "outputs": [
    {
     "data": {
      "application/javascript": [
       "\n",
       "        setTimeout(function() {\n",
       "            var nbb_cell_id = 41;\n",
       "            var nbb_formatted_code = \"# Produce final map by manually classifying one young oil palm plantation\\narea1_finalmap = filtered.where(\\n    (classified.clip(op).eq(2).Or(classified.clip(op).eq(3))), 1\\n)\\n\\nexport5 = ee.batch.Export.image.toDrive(\\n    image=area1_finalmap,\\n    description=\\\"export_area1_map_drive\\\",\\n    fileNamePrefix=\\\"area1_map\\\",\\n    scale=scale,\\n    maxPixels=1e13,\\n)\\nexport5.start()\\n\\n# to asset (replace with your username)\\nexport6 = ee.batch.Export.image.toAsset(\\n    image=area1_finalmap,\\n    description=\\\"export_area1_map_asset\\\",\\n    assetId=\\\"users/nkeikon/area1_map\\\",\\n    scale=20,\\n    maxPixels=1e13,\\n)\\n# export6.start()\";\n",
       "            var nbb_cells = Jupyter.notebook.get_cells();\n",
       "            for (var i = 0; i < nbb_cells.length; ++i) {\n",
       "                if (nbb_cells[i].input_prompt_number == nbb_cell_id) {\n",
       "                    nbb_cells[i].set_text(nbb_formatted_code);\n",
       "                    break;\n",
       "                }\n",
       "            }\n",
       "        }, 500);\n",
       "        "
      ],
      "text/plain": [
       "<IPython.core.display.Javascript object>"
      ]
     },
     "metadata": {},
     "output_type": "display_data"
    }
   ],
   "source": [
    "# Produce final map by manually classifying one young oil palm plantation\n",
    "area1_finalmap = filtered.where(\n",
    "    (classified.clip(op).eq(2).Or(classified.clip(op).eq(3))), 1\n",
    ")\n",
    "\n",
    "export5 = ee.batch.Export.image.toDrive(\n",
    "    image=area1_finalmap,\n",
    "    description=\"export_area1_map_drive\",\n",
    "    fileNamePrefix=\"area1_map\",\n",
    "    scale=scale,\n",
    "    maxPixels=1e13,\n",
    ")\n",
    "export5.start()\n",
    "\n",
    "# to asset (replace with your username)\n",
    "export6 = ee.batch.Export.image.toAsset(\n",
    "    image=area1_finalmap,\n",
    "    description=\"export_area1_map_asset\",\n",
    "    assetId=\"users/nkeikon/area1_map\",\n",
    "    scale=20,\n",
    "    maxPixels=1e13,\n",
    ")\n",
    "# export6.start()"
   ]
  },
  {
   "cell_type": "code",
   "execution_count": 42,
   "metadata": {},
   "outputs": [
    {
     "name": "stdout",
     "output_type": "stream",
     "text": [
      "<Task EXPORT_IMAGE: export_area1_map_drive (READY)>\n",
      "<Task EXPORT_IMAGE: export_area1_classified_drive (READY)>\n",
      "<Task EXPORT_FEATURES: export_area1_accuracy (RUNNING)>\n",
      "<Task EXPORT_FEATURES: export_area1_accuracy (RUNNING)>\n",
      "<Task EXPORT_IMAGE: export_area1_map_drive (FAILED)>\n",
      "<Task EXPORT_IMAGE: export_area1_classified_drive (FAILED)>\n"
     ]
    },
    {
     "data": {
      "application/javascript": [
       "\n",
       "        setTimeout(function() {\n",
       "            var nbb_cell_id = 42;\n",
       "            var nbb_formatted_code = \"# query current tasks\\ntasks = ee.batch.Task.list()\\nprint(tasks[0])\\nprint(tasks[1])\\nprint(tasks[2])\\nprint(tasks[3])\\nprint(tasks[4])\\nprint(tasks[5])\";\n",
       "            var nbb_cells = Jupyter.notebook.get_cells();\n",
       "            for (var i = 0; i < nbb_cells.length; ++i) {\n",
       "                if (nbb_cells[i].input_prompt_number == nbb_cell_id) {\n",
       "                    nbb_cells[i].set_text(nbb_formatted_code);\n",
       "                    break;\n",
       "                }\n",
       "            }\n",
       "        }, 500);\n",
       "        "
      ],
      "text/plain": [
       "<IPython.core.display.Javascript object>"
      ]
     },
     "metadata": {},
     "output_type": "display_data"
    }
   ],
   "source": [
    "# query current tasks\n",
    "tasks = ee.batch.Task.list()\n",
    "print(tasks[0])\n",
    "print(tasks[1])\n",
    "print(tasks[2])\n",
    "print(tasks[3])\n",
    "print(tasks[4])\n",
    "print(tasks[5])"
   ]
  },
  {
   "cell_type": "code",
   "execution_count": null,
   "metadata": {},
   "outputs": [],
   "source": []
  }
 ],
 "metadata": {
  "kernelspec": {
   "display_name": "Python 3",
   "language": "python",
   "name": "python3"
  },
  "language_info": {
   "codemirror_mode": {
    "name": "ipython",
    "version": 3
   },
   "file_extension": ".py",
   "mimetype": "text/x-python",
   "name": "python",
   "nbconvert_exporter": "python",
   "pygments_lexer": "ipython3",
   "version": "3.7.1"
  }
 },
 "nbformat": 4,
 "nbformat_minor": 2
}
