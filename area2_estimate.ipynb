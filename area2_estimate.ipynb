{
 "cells": [
  {
   "cell_type": "code",
   "execution_count": null,
   "metadata": {},
   "outputs": [],
   "source": [
    "import ee\n",
    "\n",
    "ee.Initialize()\n",
    "from IPython.display import display, Image"
   ]
  },
  {
   "cell_type": "code",
   "execution_count": null,
   "metadata": {},
   "outputs": [],
   "source": [
    "scale = 20"
   ]
  },
  {
   "cell_type": "code",
   "execution_count": null,
   "metadata": {},
   "outputs": [],
   "source": [
    "roi = ee.FeatureCollection(\"users/nkeikon/myanmar_sr/area2\")\n",
    "s2TNI = ee.Image(\"users/nkeikon/myanmar_sr/s2image\").clip(roi)\n",
    "classified = ee.Image(\"users/nkeikon/myanmar_sr/area2_classified\")\n",
    "PA = ee.FeatureCollection(\"WCMC/WDPA/current/polygons\")\n",
    "palm = ee.FeatureCollection(\"users/nkeikon/myanmar_sr/palm_area2\")\n",
    "rubber = ee.FeatureCollection(\"users/nkeikon/myanmar_sr/rubber_area2\")\n",
    "other = ee.FeatureCollection(\"users/nkeikon/myanmar_sr/other_area2\")\n",
    "bare = ee.FeatureCollection(\"users/nkeikon/myanmar_sr/bare_area2\")\n",
    "water = ee.FeatureCollection(\"users/nkeikon/myanmar_sr/water_area2\")\n",
    "shrub = ee.FeatureCollection(\"users/nkeikon/myanmar_sr/shrub_area2\")"
   ]
  },
  {
   "cell_type": "code",
   "execution_count": null,
   "metadata": {},
   "outputs": [],
   "source": [
    "Image(url=classified.randomVisualizer().getThumbUrl({\"size\": \"400\"}))"
   ]
  },
  {
   "cell_type": "code",
   "execution_count": null,
   "metadata": {},
   "outputs": [],
   "source": [
    "# Calculate the area by class\n",
    "names = [\"1 oil palm\", \"2 rubber\", \"3 other\", \"4 shrub\", \"5 bare\", \"6 water\"]\n",
    "count = classified.eq([1, 2, 3, 4, 5, 6]).rename(names)\n",
    "total = count.multiply(ee.Image.pixelArea())\n",
    "areaM2 = total.reduceRegion(ee.Reducer.sum(), roi, scale, None, None, False, 1e13, 3)\n",
    "areaPixel = count.reduceRegion(ee.Reducer.sum(), roi, scale, None, None, False, 1e13, 3)\n",
    "\n",
    "# Create feature collections\n",
    "featureM2 = ee.Feature(None)\n",
    "featureM2 = featureM2.set(\"areaM2\", areaM2)\n",
    "area_M2 = ee.FeatureCollection(featureM2)\n",
    "\n",
    "featurePixel = ee.Feature(None)\n",
    "featurePixel = featurePixel.set(\"areaPixel\", areaPixel)\n",
    "area_Pixel = ee.FeatureCollection(featurePixel)\n",
    "\n",
    "# Export as csv\n",
    "export1 = ee.batch.Export.table.toDrive(\n",
    "    collection=area_M2,\n",
    "    description=\"export_area2_m2\",\n",
    "    fileNamePrefix=\"Kawthaung_area2_m2\",\n",
    ")\n",
    "export1.start()\n",
    "export2 = ee.batch.Export.table.toDrive(\n",
    "    collection=area_Pixel,\n",
    "    description=\"export_area2_pixel\",\n",
    "    fileNamePrefix=\"Kawthaung_area2_pixel\",\n",
    ")\n",
    "export2.start()"
   ]
  },
  {
   "cell_type": "code",
   "execution_count": null,
   "metadata": {},
   "outputs": [],
   "source": [
    "# Pixel counts in all reference data - to correct bias later\n",
    "names = [\"1 oil palm\", \"2 rubber\", \"3 other\", \"4 shrub\", \"5 bare\", \"6 water\"]\n",
    "palm_count = classified.clip(palm).eq([1, 2, 3, 4, 5, 6]).rename(names)\n",
    "rubber_count = classified.clip(rubber).eq([1, 2, 3, 4, 5, 6]).rename(names)\n",
    "other_count = classified.clip(other).eq([1, 2, 3, 4, 5, 6]).rename(names)\n",
    "shrub_count = classified.clip(shrub).eq([1, 2, 3, 4, 5, 6]).rename(names)\n",
    "bare_count = classified.clip(bare).eq([1, 2, 3, 4, 5, 6]).rename(names)\n",
    "water_count = classified.clip(water).eq([1, 2, 3, 4, 5, 6]).rename(names)\n",
    "\n",
    "palm_area = palm_count.reduceRegion(\n",
    "    ee.Reducer.sum(), roi, scale, None, None, False, 1e13, 3\n",
    ")\n",
    "rubber_area = rubber_count.reduceRegion(\n",
    "    ee.Reducer.sum(), roi, scale, None, None, False, 1e13, 3\n",
    ")\n",
    "other_area = other_count.reduceRegion(\n",
    "    ee.Reducer.sum(), roi, scale, None, None, False, 1e13, 3\n",
    ")\n",
    "shrub_area = shrub_count.reduceRegion(\n",
    "    ee.Reducer.sum(), roi, scale, None, None, False, 1e13, 3\n",
    ")\n",
    "bare_area = bare_count.reduceRegion(\n",
    "    ee.Reducer.sum(), roi, scale, None, None, False, 1e13, 3\n",
    ")\n",
    "water_area = water_count.reduceRegion(\n",
    "    ee.Reducer.sum(), roi, scale, None, None, False, 1e13, 3\n",
    ")\n",
    "\n",
    "feature = ee.Feature(None)\n",
    "feature = feature.set(\"palm\", palm_area)\n",
    "feature = feature.set(\"rubber\", rubber_area)\n",
    "feature = feature.set(\"other\", other_area)\n",
    "feature = feature.set(\"shrub\", shrub_area)\n",
    "feature = feature.set(\"bare\", bare_area)\n",
    "feature = feature.set(\"water\", water_area)\n",
    "area_pixel_results = ee.FeatureCollection(feature)\n",
    "\n",
    "export3 = ee.batch.Export.table.toDrive(\n",
    "    collection=area_pixel_results,\n",
    "    description=\"export_area2_reference_pixel\",\n",
    "    fileNamePrefix=\"area2_reference_pixel\",\n",
    ")\n",
    "export3.start()"
   ]
  },
  {
   "cell_type": "code",
   "execution_count": null,
   "metadata": {},
   "outputs": [],
   "source": [
    "# query current tasks\n",
    "tasks = ee.batch.Task.list()\n",
    "print(tasks[0])\n",
    "print(tasks[1])\n",
    "print(tasks[2])"
   ]
  },
  {
   "cell_type": "code",
   "execution_count": null,
   "metadata": {},
   "outputs": [],
   "source": []
  }
 ],
 "metadata": {
  "kernelspec": {
   "display_name": "Python 3",
   "language": "python",
   "name": "python3"
  },
  "language_info": {
   "codemirror_mode": {
    "name": "ipython",
    "version": 3
   },
   "file_extension": ".py",
   "mimetype": "text/x-python",
   "name": "python",
   "nbconvert_exporter": "python",
   "pygments_lexer": "ipython3",
   "version": "3.7.1"
  }
 },
 "nbformat": 4,
 "nbformat_minor": 2
}
